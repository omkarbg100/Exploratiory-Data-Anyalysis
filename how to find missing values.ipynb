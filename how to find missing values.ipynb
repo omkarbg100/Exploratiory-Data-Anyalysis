{
 "cells": [
  {
   "cell_type": "code",
   "execution_count": 2,
   "id": "4f3dc74a-72f4-48b5-b5c9-765905c3ae9a",
   "metadata": {},
   "outputs": [],
   "source": [
    "import pandas as pd\n",
    "import matplotlib.pyplot as plt\n",
    "import seaborn as sns"
   ]
  },
  {
   "cell_type": "code",
   "execution_count": 3,
   "id": "958e36df-e2a5-4a65-bc09-9bcf84806cbb",
   "metadata": {},
   "outputs": [
    {
     "data": {
      "text/html": [
       "<div>\n",
       "<style scoped>\n",
       "    .dataframe tbody tr th:only-of-type {\n",
       "        vertical-align: middle;\n",
       "    }\n",
       "\n",
       "    .dataframe tbody tr th {\n",
       "        vertical-align: top;\n",
       "    }\n",
       "\n",
       "    .dataframe thead th {\n",
       "        text-align: right;\n",
       "    }\n",
       "</style>\n",
       "<table border=\"1\" class=\"dataframe\">\n",
       "  <thead>\n",
       "    <tr style=\"text-align: right;\">\n",
       "      <th></th>\n",
       "      <th>Index</th>\n",
       "      <th>Customer Id</th>\n",
       "      <th>First Name</th>\n",
       "      <th>Last Name</th>\n",
       "      <th>Company</th>\n",
       "      <th>City</th>\n",
       "      <th>Country</th>\n",
       "      <th>Phone 1</th>\n",
       "      <th>Phone 2</th>\n",
       "      <th>Email</th>\n",
       "      <th>Subscription Date</th>\n",
       "      <th>Website</th>\n",
       "    </tr>\n",
       "  </thead>\n",
       "  <tbody>\n",
       "    <tr>\n",
       "      <th>0</th>\n",
       "      <td>1</td>\n",
       "      <td>DD37Cf93aecA6Dc</td>\n",
       "      <td>Sheryl</td>\n",
       "      <td>Baxter</td>\n",
       "      <td>Rasmussen Group</td>\n",
       "      <td>East Leonard</td>\n",
       "      <td>Chile</td>\n",
       "      <td>229.077.5154</td>\n",
       "      <td>397.884.0519x718</td>\n",
       "      <td>zunigavanessa@smith.info</td>\n",
       "      <td>2020-08-24</td>\n",
       "      <td>http://www.stephenson.com/</td>\n",
       "    </tr>\n",
       "    <tr>\n",
       "      <th>1</th>\n",
       "      <td>2</td>\n",
       "      <td>1Ef7b82A4CAAD10</td>\n",
       "      <td>Preston</td>\n",
       "      <td>Lozano</td>\n",
       "      <td>Vega-Gentry</td>\n",
       "      <td>East Jimmychester</td>\n",
       "      <td>Djibouti</td>\n",
       "      <td>5153435776</td>\n",
       "      <td>686-620-1820x944</td>\n",
       "      <td>vmata@colon.com</td>\n",
       "      <td>2021-04-23</td>\n",
       "      <td>http://www.hobbs.com/</td>\n",
       "    </tr>\n",
       "    <tr>\n",
       "      <th>2</th>\n",
       "      <td>3</td>\n",
       "      <td>6F94879bDAfE5a6</td>\n",
       "      <td>Roy</td>\n",
       "      <td>Berry</td>\n",
       "      <td>Murillo-Perry</td>\n",
       "      <td>Isabelborough</td>\n",
       "      <td>Antigua and Barbuda</td>\n",
       "      <td>+1-539-402-0259</td>\n",
       "      <td>(496)978-3969x58947</td>\n",
       "      <td>beckycarr@hogan.com</td>\n",
       "      <td>2020-03-25</td>\n",
       "      <td>http://www.lawrence.com/</td>\n",
       "    </tr>\n",
       "    <tr>\n",
       "      <th>3</th>\n",
       "      <td>4</td>\n",
       "      <td>5Cef8BFA16c5e3c</td>\n",
       "      <td>Linda</td>\n",
       "      <td>Olsen</td>\n",
       "      <td>Dominguez, Mcmillan and Donovan</td>\n",
       "      <td>Bensonview</td>\n",
       "      <td>Dominican Republic</td>\n",
       "      <td>001-808-617-6467x12895</td>\n",
       "      <td>+1-813-324-8756</td>\n",
       "      <td>stanleyblackwell@benson.org</td>\n",
       "      <td>2020-06-02</td>\n",
       "      <td>http://www.good-lyons.com/</td>\n",
       "    </tr>\n",
       "    <tr>\n",
       "      <th>4</th>\n",
       "      <td>5</td>\n",
       "      <td>053d585Ab6b3159</td>\n",
       "      <td>Joanna</td>\n",
       "      <td>Bender</td>\n",
       "      <td>Martin, Lang and Andrade</td>\n",
       "      <td>West Priscilla</td>\n",
       "      <td>Slovakia (Slovak Republic)</td>\n",
       "      <td>001-234-203-0635x76146</td>\n",
       "      <td>001-199-446-3860x3486</td>\n",
       "      <td>colinalvarado@miles.net</td>\n",
       "      <td>2021-04-17</td>\n",
       "      <td>https://goodwin-ingram.com/</td>\n",
       "    </tr>\n",
       "    <tr>\n",
       "      <th>5</th>\n",
       "      <td>6</td>\n",
       "      <td>2d08FB17EE273F4</td>\n",
       "      <td>Aimee</td>\n",
       "      <td>Downs</td>\n",
       "      <td>Steele Group</td>\n",
       "      <td>Chavezborough</td>\n",
       "      <td>Bosnia and Herzegovina</td>\n",
       "      <td>(283)437-3886x88321</td>\n",
       "      <td>999-728-1637</td>\n",
       "      <td>louis27@gilbert.com</td>\n",
       "      <td>2020-02-25</td>\n",
       "      <td>http://www.berger.net/</td>\n",
       "    </tr>\n",
       "    <tr>\n",
       "      <th>6</th>\n",
       "      <td>7</td>\n",
       "      <td>EA4d384DfDbBf77</td>\n",
       "      <td>Darren</td>\n",
       "      <td>Peck</td>\n",
       "      <td>Lester, Woodard and Mitchell</td>\n",
       "      <td>Lake Ana</td>\n",
       "      <td>Pitcairn Islands</td>\n",
       "      <td>(496)452-6181x3291</td>\n",
       "      <td>+1-247-266-0963x4995</td>\n",
       "      <td>tgates@cantrell.com</td>\n",
       "      <td>2021-08-24</td>\n",
       "      <td>https://www.le.com/</td>\n",
       "    </tr>\n",
       "    <tr>\n",
       "      <th>7</th>\n",
       "      <td>8</td>\n",
       "      <td>0e04AFde9f225dE</td>\n",
       "      <td>Brett</td>\n",
       "      <td>Mullen</td>\n",
       "      <td>Sanford, Davenport and Giles</td>\n",
       "      <td>Kimport</td>\n",
       "      <td>Bulgaria</td>\n",
       "      <td>001-583-352-7197x297</td>\n",
       "      <td>001-333-145-0369</td>\n",
       "      <td>asnow@colon.com</td>\n",
       "      <td>2021-04-12</td>\n",
       "      <td>https://hammond-ramsey.com/</td>\n",
       "    </tr>\n",
       "    <tr>\n",
       "      <th>8</th>\n",
       "      <td>9</td>\n",
       "      <td>C2dE4dEEc489ae0</td>\n",
       "      <td>Sheryl</td>\n",
       "      <td>Meyers</td>\n",
       "      <td>Browning-Simon</td>\n",
       "      <td>Robersonstad</td>\n",
       "      <td>Cyprus</td>\n",
       "      <td>854-138-4911x5772</td>\n",
       "      <td>+1-448-910-2276x729</td>\n",
       "      <td>mariokhan@ryan-pope.org</td>\n",
       "      <td>2020-01-13</td>\n",
       "      <td>https://www.bullock.net/</td>\n",
       "    </tr>\n",
       "    <tr>\n",
       "      <th>9</th>\n",
       "      <td>10</td>\n",
       "      <td>8C2811a503C7c5a</td>\n",
       "      <td>Michelle</td>\n",
       "      <td>Gallagher</td>\n",
       "      <td>Beck-Hendrix</td>\n",
       "      <td>Elaineberg</td>\n",
       "      <td>Timor-Leste</td>\n",
       "      <td>739.218.2516x459</td>\n",
       "      <td>001-054-401-0347x617</td>\n",
       "      <td>mdyer@escobar.net</td>\n",
       "      <td>2021-11-08</td>\n",
       "      <td>https://arias.com/</td>\n",
       "    </tr>\n",
       "  </tbody>\n",
       "</table>\n",
       "</div>"
      ],
      "text/plain": [
       "   Index      Customer Id First Name  Last Name  \\\n",
       "0      1  DD37Cf93aecA6Dc     Sheryl     Baxter   \n",
       "1      2  1Ef7b82A4CAAD10    Preston     Lozano   \n",
       "2      3  6F94879bDAfE5a6        Roy      Berry   \n",
       "3      4  5Cef8BFA16c5e3c      Linda      Olsen   \n",
       "4      5  053d585Ab6b3159     Joanna     Bender   \n",
       "5      6  2d08FB17EE273F4      Aimee      Downs   \n",
       "6      7  EA4d384DfDbBf77     Darren       Peck   \n",
       "7      8  0e04AFde9f225dE      Brett     Mullen   \n",
       "8      9  C2dE4dEEc489ae0     Sheryl     Meyers   \n",
       "9     10  8C2811a503C7c5a   Michelle  Gallagher   \n",
       "\n",
       "                           Company               City  \\\n",
       "0                  Rasmussen Group       East Leonard   \n",
       "1                      Vega-Gentry  East Jimmychester   \n",
       "2                    Murillo-Perry      Isabelborough   \n",
       "3  Dominguez, Mcmillan and Donovan         Bensonview   \n",
       "4         Martin, Lang and Andrade     West Priscilla   \n",
       "5                     Steele Group      Chavezborough   \n",
       "6     Lester, Woodard and Mitchell           Lake Ana   \n",
       "7     Sanford, Davenport and Giles            Kimport   \n",
       "8                   Browning-Simon       Robersonstad   \n",
       "9                     Beck-Hendrix         Elaineberg   \n",
       "\n",
       "                      Country                 Phone 1                Phone 2  \\\n",
       "0                       Chile            229.077.5154       397.884.0519x718   \n",
       "1                    Djibouti              5153435776       686-620-1820x944   \n",
       "2         Antigua and Barbuda         +1-539-402-0259    (496)978-3969x58947   \n",
       "3          Dominican Republic  001-808-617-6467x12895        +1-813-324-8756   \n",
       "4  Slovakia (Slovak Republic)  001-234-203-0635x76146  001-199-446-3860x3486   \n",
       "5      Bosnia and Herzegovina     (283)437-3886x88321           999-728-1637   \n",
       "6            Pitcairn Islands      (496)452-6181x3291   +1-247-266-0963x4995   \n",
       "7                    Bulgaria    001-583-352-7197x297       001-333-145-0369   \n",
       "8                      Cyprus       854-138-4911x5772    +1-448-910-2276x729   \n",
       "9                 Timor-Leste        739.218.2516x459   001-054-401-0347x617   \n",
       "\n",
       "                         Email Subscription Date                      Website  \n",
       "0     zunigavanessa@smith.info        2020-08-24   http://www.stephenson.com/  \n",
       "1              vmata@colon.com        2021-04-23        http://www.hobbs.com/  \n",
       "2          beckycarr@hogan.com        2020-03-25     http://www.lawrence.com/  \n",
       "3  stanleyblackwell@benson.org        2020-06-02   http://www.good-lyons.com/  \n",
       "4      colinalvarado@miles.net        2021-04-17  https://goodwin-ingram.com/  \n",
       "5          louis27@gilbert.com        2020-02-25       http://www.berger.net/  \n",
       "6          tgates@cantrell.com        2021-08-24          https://www.le.com/  \n",
       "7              asnow@colon.com        2021-04-12  https://hammond-ramsey.com/  \n",
       "8      mariokhan@ryan-pope.org        2020-01-13     https://www.bullock.net/  \n",
       "9            mdyer@escobar.net        2021-11-08           https://arias.com/  "
      ]
     },
     "execution_count": 3,
     "metadata": {},
     "output_type": "execute_result"
    }
   ],
   "source": [
    "x=pd.read_csv(\"customers-100.csv\")\n",
    "x.head(10)"
   ]
  },
  {
   "cell_type": "code",
   "execution_count": 4,
   "id": "868541d0",
   "metadata": {},
   "outputs": [
    {
     "name": "stdout",
     "output_type": "stream",
     "text": [
      "<class 'pandas.core.frame.DataFrame'>\n",
      "RangeIndex: 100 entries, 0 to 99\n",
      "Data columns (total 12 columns):\n",
      " #   Column             Non-Null Count  Dtype\n",
      "---  ------             --------------  -----\n",
      " 0   Index              100 non-null    bool \n",
      " 1   Customer Id        100 non-null    bool \n",
      " 2   First Name         100 non-null    bool \n",
      " 3   Last Name          100 non-null    bool \n",
      " 4   Company            100 non-null    bool \n",
      " 5   City               100 non-null    bool \n",
      " 6   Country            100 non-null    bool \n",
      " 7   Phone 1            100 non-null    bool \n",
      " 8   Phone 2            100 non-null    bool \n",
      " 9   Email              100 non-null    bool \n",
      " 10  Subscription Date  100 non-null    bool \n",
      " 11  Website            100 non-null    bool \n",
      "dtypes: bool(12)\n",
      "memory usage: 1.3 KB\n"
     ]
    }
   ],
   "source": [
    "x.isnull().info()"
   ]
  },
  {
   "cell_type": "code",
   "execution_count": 5,
   "id": "e85ddaf0",
   "metadata": {},
   "outputs": [
    {
     "name": "stdout",
     "output_type": "stream",
     "text": [
      "<class 'pandas.core.frame.DataFrame'>\n",
      "RangeIndex: 100 entries, 0 to 99\n",
      "Data columns (total 12 columns):\n",
      " #   Column             Non-Null Count  Dtype\n",
      "---  ------             --------------  -----\n",
      " 0   Index              100 non-null    bool \n",
      " 1   Customer Id        100 non-null    bool \n",
      " 2   First Name         100 non-null    bool \n",
      " 3   Last Name          100 non-null    bool \n",
      " 4   Company            100 non-null    bool \n",
      " 5   City               100 non-null    bool \n",
      " 6   Country            100 non-null    bool \n",
      " 7   Phone 1            100 non-null    bool \n",
      " 8   Phone 2            100 non-null    bool \n",
      " 9   Email              100 non-null    bool \n",
      " 10  Subscription Date  100 non-null    bool \n",
      " 11  Website            100 non-null    bool \n",
      "dtypes: bool(12)\n",
      "memory usage: 1.3 KB\n"
     ]
    }
   ],
   "source": [
    "x.isnull().info()"
   ]
  },
  {
   "cell_type": "code",
   "execution_count": 6,
   "id": "423cdbf9",
   "metadata": {},
   "outputs": [
    {
     "data": {
      "text/plain": [
       "100"
      ]
     },
     "execution_count": 6,
     "metadata": {},
     "output_type": "execute_result"
    }
   ],
   "source": [
    "x.shape[0]"
   ]
  },
  {
   "cell_type": "code",
   "execution_count": 7,
   "id": "2feedd09",
   "metadata": {},
   "outputs": [
    {
     "data": {
      "text/plain": [
       "Index                0.0\n",
       "Customer Id          0.0\n",
       "First Name           0.0\n",
       "Last Name            0.0\n",
       "Company              0.0\n",
       "City                 0.0\n",
       "Country              0.0\n",
       "Phone 1              0.0\n",
       "Phone 2              0.0\n",
       "Email                0.0\n",
       "Subscription Date    0.0\n",
       "Website              0.0\n",
       "dtype: float64"
      ]
     },
     "execution_count": 7,
     "metadata": {},
     "output_type": "execute_result"
    }
   ],
   "source": [
    "x.isnull().sum()/x.shape[0]"
   ]
  },
  {
   "cell_type": "code",
   "execution_count": 8,
   "id": "17d5174c",
   "metadata": {},
   "outputs": [
    {
     "data": {
      "text/plain": [
       "Index                0.0\n",
       "Customer Id          0.0\n",
       "First Name           0.0\n",
       "Last Name            0.0\n",
       "Company              0.0\n",
       "City                 0.0\n",
       "Country              0.0\n",
       "Phone 1              0.0\n",
       "Phone 2              0.0\n",
       "Email                0.0\n",
       "Subscription Date    0.0\n",
       "Website              0.0\n",
       "dtype: float64"
      ]
     },
     "execution_count": 8,
     "metadata": {},
     "output_type": "execute_result"
    }
   ],
   "source": [
    "x.isnull().sum()/x.shape[0] * 100"
   ]
  },
  {
   "cell_type": "markdown",
   "id": "2cd0ac70",
   "metadata": {},
   "source": [
    "null values in percentage"
   ]
  },
  {
   "cell_type": "code",
   "execution_count": 9,
   "id": "5325b64e",
   "metadata": {},
   "outputs": [
    {
     "data": {
      "text/plain": [
       "np.int64(0)"
      ]
     },
     "execution_count": 9,
     "metadata": {},
     "output_type": "execute_result"
    }
   ],
   "source": [
    "x.isnull().sum().sum()"
   ]
  },
  {
   "cell_type": "code",
   "execution_count": 10,
   "id": "cf4a4753",
   "metadata": {},
   "outputs": [
    {
     "data": {
      "text/plain": [
       "np.int64(1200)"
      ]
     },
     "execution_count": 10,
     "metadata": {},
     "output_type": "execute_result"
    }
   ],
   "source": [
    "x.notnull().sum().sum()"
   ]
  },
  {
   "cell_type": "markdown",
   "id": "1ebd964b",
   "metadata": {},
   "source": [
    "gives total number of non null values in the data set"
   ]
  },
  {
   "cell_type": "code",
   "execution_count": 11,
   "id": "3a26aaa0",
   "metadata": {},
   "outputs": [
    {
     "data": {
      "image/png": "[encoded data removed]",
      "text/plain": [
       "<Figure size 640x480 with 2 Axes>"
      ]
     },
     "metadata": {},
     "output_type": "display_data"
    }
   ],
   "source": [
    "sns.heatmap(x.isnull())\n",
    "plt.show()"
   ]
  },
  {
   "cell_type": "code",
   "execution_count": 12,
   "id": "5c50653e",
   "metadata": {},
   "outputs": [
    {
     "name": "stdout",
     "output_type": "stream",
     "text": [
      "<class 'pandas.core.frame.DataFrame'>\n",
      "RangeIndex: 9999 entries, 0 to 9998\n",
      "Data columns (total 9 columns):\n",
      " #   Column    Non-Null Count  Dtype\n",
      "---  ------    --------------  -----\n",
      " 0   MOVIES    9999 non-null   bool \n",
      " 1   YEAR      9999 non-null   bool \n",
      " 2   GENRE     9999 non-null   bool \n",
      " 3   RATING    9999 non-null   bool \n",
      " 4   ONE-LINE  9999 non-null   bool \n",
      " 5   STARS     9999 non-null   bool \n",
      " 6   VOTES     9999 non-null   bool \n",
      " 7   RunTime   9999 non-null   bool \n",
      " 8   Gross     9999 non-null   bool \n",
      "dtypes: bool(9)\n",
      "memory usage: 88.0 KB\n"
     ]
    }
   ],
   "source": [
    "z=pd.read_csv(\"movies.csv\")\n",
    "z.isnull().info()"
   ]
  },
  {
   "cell_type": "code",
   "execution_count": 13,
   "id": "b4f1fd3f",
   "metadata": {},
   "outputs": [
    {
     "data": {
      "text/plain": [
       "MOVIES         0\n",
       "YEAR         644\n",
       "GENRE         80\n",
       "RATING      1820\n",
       "ONE-LINE       0\n",
       "STARS          0\n",
       "VOTES       1820\n",
       "RunTime     2958\n",
       "Gross       9539\n",
       "dtype: int64"
      ]
     },
     "execution_count": 13,
     "metadata": {},
     "output_type": "execute_result"
    }
   ],
   "source": [
    "z.isnull().sum()"
   ]
  }
 ],
 "metadata": {
  "kernelspec": {
   "display_name": "Python 3",
   "language": "python",
   "name": "python3"
  },
  "language_info": {
   "codemirror_mode": {
    "name": "ipython",
    "version": 3
   },
   "file_extension": ".py",
   "mimetype": "text/x-python",
   "name": "python",
   "nbconvert_exporter": "python",
   "pygments_lexer": "ipython3",
   "version": "3.12.5"
  }
 },
 "nbformat": 4,
 "nbformat_minor": 5
}
